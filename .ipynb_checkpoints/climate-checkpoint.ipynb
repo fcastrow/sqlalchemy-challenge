{
 "cells": [
  {
   "cell_type": "code",
   "execution_count": 1,
   "metadata": {},
   "outputs": [],
   "source": [
    "#Copyright © 2019 by Castrow, L.L.C.\n",
    "\n",
    "#All rights reserved. \n",
    "#No part of this publication may be reproduced, distributed, or transmitted in any form or by any means, \n",
    "#including photocopying, recording, or other electronic or mechanical methods.\n",
    "\n",
    "#WARNING: Used without permission, this code could cause catrastophic events to occur.\n",
    "#         You have been warned."
   ]
  },
  {
   "cell_type": "markdown",
   "metadata": {},
   "source": [
    "# Reflect Tables into SQLAlchemy ORM"
   ]
  },
  {
   "cell_type": "code",
   "execution_count": 2,
   "metadata": {},
   "outputs": [],
   "source": [
    "#import the usual suspects\n",
    "%matplotlib inline\n",
    "from matplotlib import style\n",
    "style.use('fivethirtyeight')\n",
    "import matplotlib.pyplot as plt\n",
    "import numpy as np\n",
    "import pandas as pd\n",
    "import datetime as dt\n",
    "\n",
    "#import Python SQL toolkit and Object Relational Mapper\n",
    "import sqlalchemy\n",
    "from sqlalchemy.ext.automap import automap_base\n",
    "from sqlalchemy.orm import Session\n",
    "from sqlalchemy import create_engine, func, text"
   ]
  },
  {
   "cell_type": "code",
   "execution_count": 3,
   "metadata": {},
   "outputs": [
    {
     "data": {
      "text/plain": [
       "['measurement', 'station']"
      ]
     },
     "execution_count": 3,
     "metadata": {},
     "output_type": "execute_result"
    }
   ],
   "source": [
    "engine = create_engine(\"sqlite:///Resources/hawaii.sqlite\")\n",
    "\n",
    "# reflect an existing database into a new model\n",
    "Base = automap_base()\n",
    "# reflect the tables\n",
    "Base.prepare(engine, reflect=True)\n",
    "# We can view all of the classes that automap found\n",
    "Base.classes.keys()"
   ]
  },
  {
   "cell_type": "code",
   "execution_count": 4,
   "metadata": {},
   "outputs": [],
   "source": [
    "# Save references to each table\n",
    "Measurement = Base.classes.measurement\n",
    "Station = Base.classes.station\n",
    "\n",
    "# Create our session (link) from Python to the DB\n",
    "session = Session(engine)"
   ]
  },
  {
   "cell_type": "code",
   "execution_count": 5,
   "metadata": {},
   "outputs": [],
   "source": [
    "#populate data frames\n",
    "results = session.query(Station.id, Station.station, Station.name, Station.latitude, Station.longitude, Station.elevation).all()\n",
    "stations_df = pd.DataFrame(results, columns=['id', 'station', 'name', 'latitude', 'longitude', 'elevation'])\n",
    "#stations_df\n",
    "\n",
    "results = session.query(Measurement.id, Measurement.station, Measurement.date, Measurement.prcp, Measurement.tobs).all()\n",
    "measurements_df = pd.DataFrame(results, columns=['id', 'station', 'date', 'prcp', 'tobs'])\n",
    "#measurements_df"
   ]
  },
  {
   "cell_type": "code",
   "execution_count": 12,
   "metadata": {},
   "outputs": [
    {
     "data": {
      "text/plain": [
       "{0: {'id': 1,\n",
       "  'station': 'USC00519397',\n",
       "  'name': 'WAIKIKI 717.2, HI US',\n",
       "  'latitude': 21.2716,\n",
       "  'longitude': -157.8168,\n",
       "  'elevation': 3.0},\n",
       " 1: {'id': 2,\n",
       "  'station': 'USC00513117',\n",
       "  'name': 'KANEOHE 838.1, HI US',\n",
       "  'latitude': 21.4234,\n",
       "  'longitude': -157.8015,\n",
       "  'elevation': 14.6},\n",
       " 2: {'id': 3,\n",
       "  'station': 'USC00514830',\n",
       "  'name': 'KUALOA RANCH HEADQUARTERS 886.9, HI US',\n",
       "  'latitude': 21.5213,\n",
       "  'longitude': -157.8374,\n",
       "  'elevation': 7.0},\n",
       " 3: {'id': 4,\n",
       "  'station': 'USC00517948',\n",
       "  'name': 'PEARL CITY, HI US',\n",
       "  'latitude': 21.3934,\n",
       "  'longitude': -157.9751,\n",
       "  'elevation': 11.9},\n",
       " 4: {'id': 5,\n",
       "  'station': 'USC00518838',\n",
       "  'name': 'UPPER WAHIAWA 874.3, HI US',\n",
       "  'latitude': 21.4992,\n",
       "  'longitude': -158.0111,\n",
       "  'elevation': 306.6},\n",
       " 5: {'id': 6,\n",
       "  'station': 'USC00519523',\n",
       "  'name': 'WAIMANALO EXPERIMENTAL FARM, HI US',\n",
       "  'latitude': 21.33556,\n",
       "  'longitude': -157.71139,\n",
       "  'elevation': 19.5},\n",
       " 6: {'id': 7,\n",
       "  'station': 'USC00519281',\n",
       "  'name': 'WAIHEE 837.5, HI US',\n",
       "  'latitude': 21.45167,\n",
       "  'longitude': -157.84888999999998,\n",
       "  'elevation': 32.9},\n",
       " 7: {'id': 8,\n",
       "  'station': 'USC00511918',\n",
       "  'name': 'HONOLULU OBSERVATORY 702.2, HI US',\n",
       "  'latitude': 21.3152,\n",
       "  'longitude': -157.9992,\n",
       "  'elevation': 0.9},\n",
       " 8: {'id': 9,\n",
       "  'station': 'USC00516128',\n",
       "  'name': 'MANOA LYON ARBO 785.2, HI US',\n",
       "  'latitude': 21.3331,\n",
       "  'longitude': -157.8025,\n",
       "  'elevation': 152.4}}"
      ]
     },
     "execution_count": 12,
     "metadata": {},
     "output_type": "execute_result"
    }
   ],
   "source": [
    "#    stations_df['id'] = stations_df['id'].to_string()\n",
    "d = {}\n",
    "for i in stations_df['id']:\n",
    "    i -= 1\n",
    "    d[i] = { 'id': stations_df['id'][i],\n",
    "             'station': stations_df['station'][i],\n",
    "             'name': stations_df['name'][i],\n",
    "             'latitude': stations_df['latitude'][i],\n",
    "             'longitude': stations_df['longitude'][i],\n",
    "             'elevation': stations_df['elevation'][i]\n",
    "    }\n",
    "d    \n",
    "        \n",
    "#print(d)\n",
    "#print(jsonify(d))"
   ]
  },
  {
   "cell_type": "markdown",
   "metadata": {},
   "source": [
    "# Exploratory Climate Analysis"
   ]
  },
  {
   "cell_type": "code",
   "execution_count": null,
   "metadata": {},
   "outputs": [],
   "source": [
    "#LEFT OFF HERE!\n",
    "# Design a query to retrieve the last 12 months of precipitation data and plot the results\n",
    "#sql_statement  = \"select * from Measurement m \"\n",
    "#sql_statement += \"where date > (select Date(Max(date), '-1 year') from Measurement m) \"\n",
    "#sql_statement += \"order by date\"\n",
    "#s = text(sql_statement)\n",
    "#rows = session.execute(s).fetchall()\n",
    "\n",
    "#Last_year_measurements_df\n",
    "results = session.query(Measurement.id, Measurement.station, Measurement.date, Measurement.prcp, Measurement.tobs).filter(date > (select Date(Max(date), '-1 year') from Measurement m)).all()\n",
    "Last_year_measurements_df = pd.DataFrame(results, columns = ['id', 'station','date','prcp','tobs'])\n",
    "\n",
    "plt.bar(Last_year_measurements_df['date'], Last_year_measurements_df['prcp'], width=4)\n",
    "plt.title('Climate Analysis', fontsize = \"40\")\n",
    "plt.xlabel('Date', fontsize=\"30\")\n",
    "plt.ylabel('Precipitation', fontsize=\"30\")\n",
    "plt.rcParams[\"figure.figsize\"] = [20,10]\n",
    "\n",
    "plt.show()\n",
    "#LEFT OFF HERE!"
   ]
  },
  {
   "cell_type": "code",
   "execution_count": null,
   "metadata": {},
   "outputs": [],
   "source": [
    "### OLD ###\n",
    "\n",
    "# Design a query to retrieve the last 12 months of precipitation data and plot the results\n",
    "sql_statement  = \"select * from Measurement m \"\n",
    "sql_statement += \"where date > (select Date(Max(date), '-1 year') from Measurement m) \"\n",
    "sql_statement += \"order by date\"\n",
    "s = text(sql_statement)\n",
    "rows = session.execute(s).fetchall()\n",
    "Last_year_measurements_df = pd.DataFrame(rows, columns = ['id', 'station','date','prcp','tobs'])\n",
    "#Last_year_measurements_df\n",
    "plt.bar(Last_year_measurements_df['date'], Last_year_measurements_df['prcp'], width=4)\n",
    "\n",
    "plt.title('Climate Analysis', fontsize = \"40\")\n",
    "plt.xlabel('Date', fontsize=\"30\")\n",
    "plt.ylabel('Precipitation', fontsize=\"30\")\n",
    "#leg = plt.legend(title=\"precipatation\", fontsize=20, loc=\"best\")\n",
    "#leg.set_title(\"precipatation\", prop = {'size': 25})\n",
    "plt.rcParams[\"figure.figsize\"] = [20,10]\n",
    "#plt.xticks(Last_year_measurements_df['date'], Last_year_measurements_df['date'], rotation='vertical')\n",
    "\n",
    "# Calculate the date 1 year ago from the last data point in the database\n",
    "sql_statement  = \"select Date(Max(date), '-1 year') from Measurement m \"\n",
    "s = text(sql_statement)\n",
    "rows = session.execute(s).fetchall()\n",
    "Max_Date_df = pd.DataFrame(rows, columns = ['max date - 1 year'])\n",
    "Max_Date_df\n",
    "\n",
    "# Perform a query to retrieve the data and precipitation scores\n",
    "#sql_statement  = \"select id, station,date,prcp,tobs \"\n",
    "#sql_statement += \"from Measurement m \"\n",
    "#sql_statement += \"order by date\"\n",
    "#s = text(sql_statement)\n",
    "#rows = session.execute(s).fetchall()\n",
    "\n",
    "# Save the query results as a Pandas DataFrame and set the index to the date 2017-08-23\n",
    "#Measurements_df = pd.DataFrame(rows, columns = ['id', 'station','date','prcp','tobs'])\n",
    "\n",
    "#set index to the date 2017-08-23\n",
    "#??? Measurements_df\n",
    "\n",
    "# Sort the dataframe by date\n",
    "#Measurements_df.sort_values('date')\n",
    "#Measurements_df\n",
    "\n",
    "# Use Pandas Plotting with Matplotlib to plot the data\n",
    "#plt.bar(Measurements_df['date'], Measurements_df['prcp'], width=4)\n",
    "#plt.show()\n",
    "\n",
    "### OLD ###"
   ]
  },
  {
   "cell_type": "code",
   "execution_count": null,
   "metadata": {},
   "outputs": [],
   "source": [
    "#goal graph"
   ]
  },
  {
   "cell_type": "markdown",
   "metadata": {},
   "source": [
    "![precipitation](Images/precipitation.png)"
   ]
  },
  {
   "cell_type": "code",
   "execution_count": null,
   "metadata": {},
   "outputs": [],
   "source": [
    "# Use Pandas to calcualte the summary statistics for the precipitation data\n",
    "Last_year_measurements_df['prcp'].describe()\n",
    "#Last_year_measurements_df.describe()"
   ]
  },
  {
   "cell_type": "code",
   "execution_count": null,
   "metadata": {},
   "outputs": [],
   "source": [
    "#goal stats"
   ]
  },
  {
   "cell_type": "markdown",
   "metadata": {},
   "source": [
    "![describe](Images/describe.png)"
   ]
  },
  {
   "cell_type": "code",
   "execution_count": null,
   "metadata": {},
   "outputs": [],
   "source": [
    "# Design a query to show how many stations are available in this dataset?\n",
    "sql_statement  = \"select count(*) from Station s \"\n",
    "s = text(sql_statement)\n",
    "rows = session.execute(s).fetchall()\n",
    "stations_count_df = pd.DataFrame(rows, columns = ['station count'])\n",
    "stations_count_df"
   ]
  },
  {
   "cell_type": "code",
   "execution_count": null,
   "metadata": {},
   "outputs": [],
   "source": [
    "# What are the most active stations? (i.e. what stations have the most rows)?\n",
    "# List the stations and the counts in descending order.\n",
    "sql_statement  = \"select station, count(*) 'measurement count' from Measurement m group by station order by 2 desc \"\n",
    "s = text(sql_statement)\n",
    "rows = session.execute(s).fetchall()\n",
    "stations_measurement_count_df = pd.DataFrame(rows, columns = ['station', 'measurement count'])\n",
    "stations_measurement_count_df"
   ]
  },
  {
   "cell_type": "code",
   "execution_count": null,
   "metadata": {},
   "outputs": [],
   "source": [
    "# Using the station id from the previous query, calculate the lowest temperature recorded, \n",
    "# highest temperature recorded, and average temperature most active station?\n",
    "sql_statement  = \"select min(tobs), max(tobs), avg(tobs) from Measurement m where station = 'USC00519281' \"\n",
    "s = text(sql_statement)\n",
    "rows = session.execute(s).fetchall()\n",
    "stations_aggregrates_df = pd.DataFrame(rows, columns = ['min temp', 'max temp', 'avg temp'])\n",
    "stations_aggregrates_df"
   ]
  },
  {
   "cell_type": "code",
   "execution_count": null,
   "metadata": {},
   "outputs": [],
   "source": [
    "# Choose the station with the highest number of temperature observations.\n",
    "# Query the last 12 months of temperature observation data for this station and plot the results as a histogram\n",
    "sql_statement  = \"select tobs, count(*) 'frequency' from Measurement m \"\n",
    "sql_statement += \"where date > (select Date(Max(date), '-1 year') from Measurement m) \"\n",
    "sql_statement += \"and station = 'USC00519281' \"\n",
    "sql_statement += \"group by tobs\"\n",
    "s = text(sql_statement)\n",
    "rows = session.execute(s).fetchall()\n",
    "Last_year_measurements_station_USC00519281_df = pd.DataFrame(rows, columns = ['frequency','tobs'])\n",
    "#Last_year_measurements_station_USC00519281_df\n",
    "#plt.hist(Measurements_df['tobs'], Measurements_df['frequency'])\n",
    "plt.hist(Measurements_df['tobs'])\n",
    "plt.ylabel('Frequency');\n"
   ]
  },
  {
   "cell_type": "code",
   "execution_count": null,
   "metadata": {},
   "outputs": [],
   "source": [
    "#goal graph"
   ]
  },
  {
   "cell_type": "markdown",
   "metadata": {},
   "source": [
    "![precipitation](Images/station-histogram.png)"
   ]
  },
  {
   "cell_type": "code",
   "execution_count": null,
   "metadata": {},
   "outputs": [],
   "source": [
    "# This function called `calc_temps` will accept start date and end date in the format '%Y-%m-%d' \n",
    "# and return the minimum, average, and maximum temperatures for that range of dates\n",
    "def calc_temps(start_date, end_date):\n",
    "    \"\"\"TMIN, TAVG, and TMAX for a list of dates.\n",
    "    \n",
    "    Args:\n",
    "        start_date (string): A date string in the format %Y-%m-%d\n",
    "        end_date (string): A date string in the format %Y-%m-%d\n",
    "        \n",
    "    Returns:\n",
    "        TMIN, TAVE, and TMAX\n",
    "    \"\"\"\n",
    "    \n",
    "    return session.query(func.min(Measurement.tobs), func.avg(Measurement.tobs), func.max(Measurement.tobs)).\\\n",
    "        filter(Measurement.date >= start_date).filter(Measurement.date <= end_date).all()\n",
    "\n",
    "# function usage example\n",
    "print(calc_temps('2012-02-28', '2012-03-05'))"
   ]
  },
  {
   "cell_type": "code",
   "execution_count": null,
   "metadata": {},
   "outputs": [],
   "source": [
    "# Use your previous function `calc_temps` to calculate the tmin, tavg, and tmax \n",
    "# for your trip using the previous year's data for those same dates.\n",
    "print(calc_temps('2016-08-23', '2017-08-23'))"
   ]
  },
  {
   "cell_type": "code",
   "execution_count": null,
   "metadata": {},
   "outputs": [],
   "source": [
    "# Plot the results from your previous query as a bar chart. \n",
    "# Use \"Trip Avg Temp\" as your Title\n",
    "# Use the average temperature for the y value\n",
    "# Use the peak-to-peak (tmax-tmin) value as the y error bar (yerr)\n"
   ]
  },
  {
   "cell_type": "code",
   "execution_count": null,
   "metadata": {},
   "outputs": [],
   "source": [
    "# Calculate the total amount of rainfall per weather station for your trip dates using the previous year's matching dates.\n",
    "# Sort this in descending order by precipitation amount and list the station, name, latitude, longitude, and elevation\n",
    "sql_statement  = \"select s.station, s.name, s.latitude, s.longitude, s.elevation, sum(m.prcp) 'total rainfall' \"\n",
    "sql_statement += \"from Station s, \"\n",
    "sql_statement += \"     Measurement m \"\n",
    "sql_statement += \"where date > (select Date(Max(date), '-1 year') from Measurement m) \"\n",
    "sql_statement += \"and m.station = s.station \"\n",
    "sql_statement += \"group by s.station, s.name, s.latitude, s.longitude, s.elevation \"\n",
    "sql_statement += \"order by 6 desc\"\n",
    "s = text(sql_statement)\n",
    "rows = session.execute(s).fetchall()\n",
    "total_rain_by_station_df = pd.DataFrame(rows, columns = ['station','name','latitude','longitude','elevation', 'total rainfall'])\n",
    "total_rain_by_station_df"
   ]
  },
  {
   "cell_type": "markdown",
   "metadata": {},
   "source": [
    "## Optional Challenge Assignment"
   ]
  },
  {
   "cell_type": "code",
   "execution_count": null,
   "metadata": {},
   "outputs": [],
   "source": [
    "# Create a query that will calculate the daily normals \n",
    "# (i.e. the averages for tmin, tmax, and tavg for all historic data matching a specific month and day)\n",
    "\n",
    "def daily_normals(date):\n",
    "    \"\"\"Daily Normals.\n",
    "    \n",
    "    Args:\n",
    "        date (str): A date string in the format '%m-%d'\n",
    "        \n",
    "    Returns:\n",
    "        A list of tuples containing the daily normals, tmin, tavg, and tmax\n",
    "    \n",
    "    \"\"\"\n",
    "    \n",
    "    sel = [func.min(Measurement.tobs), func.avg(Measurement.tobs), func.max(Measurement.tobs)]\n",
    "    return session.query(*sel).filter(func.strftime(\"%m-%d\", Measurement.date) == date).all()\n",
    "    \n",
    "daily_normals(\"01-01\")"
   ]
  },
  {
   "cell_type": "code",
   "execution_count": null,
   "metadata": {},
   "outputs": [],
   "source": [
    "# calculate the daily normals for your trip\n",
    "# push each tuple of calculations into a list called `normals`\n",
    "\n",
    "# Set the start and end date of the trip\n",
    "\n",
    "# Use the start and end date to create a range of dates\n",
    "\n",
    "# Stip off the year and save a list of %m-%d strings\n",
    "\n",
    "# Loop through the list of %m-%d strings and calculate the normals for each date\n"
   ]
  },
  {
   "cell_type": "code",
   "execution_count": null,
   "metadata": {},
   "outputs": [],
   "source": [
    "# Load the previous query results into a Pandas DataFrame and add the `trip_dates` range as the `date` index\n"
   ]
  },
  {
   "cell_type": "code",
   "execution_count": null,
   "metadata": {},
   "outputs": [],
   "source": [
    "# Plot the daily normals as an area plot with `stacked=False`\n"
   ]
  }
 ],
 "metadata": {
  "kernel_info": {
   "name": "python3"
  },
  "kernelspec": {
   "display_name": "Python 3",
   "language": "python",
   "name": "python3"
  },
  "language_info": {
   "codemirror_mode": {
    "name": "ipython",
    "version": 3
   },
   "file_extension": ".py",
   "mimetype": "text/x-python",
   "name": "python",
   "nbconvert_exporter": "python",
   "pygments_lexer": "ipython3",
   "version": "3.7.4"
  },
  "nteract": {
   "version": "0.12.3"
  },
  "varInspector": {
   "cols": {
    "lenName": 16,
    "lenType": 16,
    "lenVar": 40
   },
   "kernels_config": {
    "python": {
     "delete_cmd_postfix": "",
     "delete_cmd_prefix": "del ",
     "library": "var_list.py",
     "varRefreshCmd": "print(var_dic_list())"
    },
    "r": {
     "delete_cmd_postfix": ") ",
     "delete_cmd_prefix": "rm(",
     "library": "var_list.r",
     "varRefreshCmd": "cat(var_dic_list()) "
    }
   },
   "types_to_exclude": [
    "module",
    "function",
    "builtin_function_or_method",
    "instance",
    "_Feature"
   ],
   "window_display": false
  }
 },
 "nbformat": 4,
 "nbformat_minor": 2
}
